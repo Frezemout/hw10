{
 "cells": [
  {
   "cell_type": "code",
   "execution_count": 3,
   "id": "7e15e26b-0027-4092-bde5-748b5d156aa6",
   "metadata": {},
   "outputs": [
    {
     "ename": "ModuleNotFoundError",
     "evalue": "No module named 'surprise'",
     "output_type": "error",
     "traceback": [
      "\u001b[1;31m---------------------------------------------------------------------------\u001b[0m",
      "\u001b[1;31mModuleNotFoundError\u001b[0m                       Traceback (most recent call last)",
      "Cell \u001b[1;32mIn[3], line 1\u001b[0m\n\u001b[1;32m----> 1\u001b[0m \u001b[38;5;28;01mfrom\u001b[39;00m \u001b[38;5;21;01msurprise\u001b[39;00m \u001b[38;5;28;01mimport\u001b[39;00m Dataset, Reader\n\u001b[0;32m      2\u001b[0m \u001b[38;5;28;01mfrom\u001b[39;00m \u001b[38;5;21;01msurprise\u001b[39;00m \u001b[38;5;28;01mimport\u001b[39;00m SVD, SVDpp, NMF\n\u001b[0;32m      3\u001b[0m \u001b[38;5;28;01mfrom\u001b[39;00m \u001b[38;5;21;01msurprise\u001b[39;00m\u001b[38;5;21;01m.\u001b[39;00m\u001b[38;5;21;01mmodel_selection\u001b[39;00m \u001b[38;5;28;01mimport\u001b[39;00m cross_validate, GridSearchCV\n",
      "\u001b[1;31mModuleNotFoundError\u001b[0m: No module named 'surprise'"
     ]
    }
   ],
   "source": [
    "from surprise import Dataset, Reader\n",
    "from surprise import SVD, SVDpp, NMF\n",
    "from surprise.model_selection import cross_validate, GridSearchCV\n",
    "import pandas as pd\n",
    "import numpy as np\n",
    "import matplotlib.pyplot as plt\n",
    "from sklearn.model_selection import train_test_split"
   ]
  },
  {
   "cell_type": "code",
   "execution_count": 2,
   "id": "489812e8-da86-405b-b3b9-d36630f57bf0",
   "metadata": {},
   "outputs": [
    {
     "ename": "NameError",
     "evalue": "name 'Dataset' is not defined",
     "output_type": "error",
     "traceback": [
      "\u001b[1;31m---------------------------------------------------------------------------\u001b[0m",
      "\u001b[1;31mNameError\u001b[0m                                 Traceback (most recent call last)",
      "Cell \u001b[1;32mIn[2], line 1\u001b[0m\n\u001b[1;32m----> 1\u001b[0m data \u001b[38;5;241m=\u001b[39m \u001b[43mDataset\u001b[49m\u001b[38;5;241m.\u001b[39mload_builtin(\u001b[38;5;124m'\u001b[39m\u001b[38;5;124mml-100k\u001b[39m\u001b[38;5;124m'\u001b[39m)\n\u001b[0;32m      3\u001b[0m algorithms \u001b[38;5;241m=\u001b[39m {\n\u001b[0;32m      4\u001b[0m     \u001b[38;5;124m'\u001b[39m\u001b[38;5;124mSVD\u001b[39m\u001b[38;5;124m'\u001b[39m: SVD(),\n\u001b[0;32m      5\u001b[0m     \u001b[38;5;124m'\u001b[39m\u001b[38;5;124mSVD++\u001b[39m\u001b[38;5;124m'\u001b[39m: SVDpp(),\n\u001b[0;32m      6\u001b[0m     \u001b[38;5;124m'\u001b[39m\u001b[38;5;124mNMF\u001b[39m\u001b[38;5;124m'\u001b[39m: NMF()\n\u001b[0;32m      7\u001b[0m }\n\u001b[0;32m      9\u001b[0m results \u001b[38;5;241m=\u001b[39m {}\n",
      "\u001b[1;31mNameError\u001b[0m: name 'Dataset' is not defined"
     ]
    }
   ],
   "source": [
    "data = Dataset.load_builtin('ml-100k')\n",
    "\n",
    "algorithms = {\n",
    "    'SVD': SVD(),\n",
    "    'SVD++': SVDpp(),\n",
    "    'NMF': NMF()\n",
    "}\n",
    "\n",
    "results = {}\n",
    "for name, algo in algorithms.items():\n",
    "    print(f\"Evaluating {name}...\")\n",
    "    cross_val_result = cross_validate(algo, data, measures=['RMSE', 'MAE'], cv=5, verbose=False)\n",
    "    results[name] = {\n",
    "        'RMSE': np.mean(cross_val_result['test_rmse']),\n",
    "        'MAE': np.mean(cross_val_result['test_mae'])\n",
    "    }\n",
    "\n",
    "print(\"\\nРезультати крос-валідації:\")\n",
    "for name, metrics in results.items():\n",
    "    print(f\"{name}: RMSE = {metrics['RMSE']:.4f}, MAE = {metrics['MAE']:.4f}\")\n",
    "\n",
    "param_grid = {\n",
    "    'n_factors': [20, 50, 100],\n",
    "    'n_epochs': [20, 30, 50],\n",
    "    'lr_all': [0.002, 0.005],\n",
    "    'reg_all': [0.02, 0.1]\n",
    "}\n",
    "\n",
    "grid_search = GridSearchCV(SVD, param_grid, measures=['rmse', 'mae'], cv=5)\n",
    "grid_search.fit(data)\n",
    "\n",
    "print(\"\\nНайкращі параметри для SVD:\")\n",
    "print(grid_search.best_params['rmse'])\n",
    "print(\"\\nНайкраще RMSE:\", grid_search.best_score['rmse'])\n",
    "\n",
    "df = pd.read_csv('https://raw.githubusercontent.com/sidooms/MovieTweetings/master/latest/ratings.dat',\n",
    "                 sep='::', names=['userId', 'movieId', 'rating', 'timestamp'], engine='python')\n",
    "\n",
    "n_users = df['userId'].nunique()\n",
    "n_items = df['movieId'].nunique()\n",
    "\n",
    "train_data, test_data = train_test_split(df, test_size=0.2)\n",
    "\n",
    "train_matrix = train_data.pivot(index='userId', columns='movieId', values='rating').fillna(0).values\n",
    "test_matrix = test_data.pivot(index='userId', columns='movieId', values='rating').fillna(0).values\n",
    "\n",
    "class MatrixFactorization:\n",
    "    def __init__(self, R, K, steps=5000, alpha=0.0002, beta=0.02):\n",
    "        self.R = R\n",
    "        self.K = K\n",
    "        self.steps = steps\n",
    "        self.alpha = alpha\n",
    "        self.beta = beta\n",
    "\n",
    "    def train(self):\n",
    "        n_users, n_items = self.R.shape\n",
    "        self.P = np.random.rand(n_users, self.K)\n",
    "        self.Q = np.random.rand(n_items, self.K)\n",
    "\n",
    "        for step in range(self.steps):\n",
    "            for i in range(n_users):\n",
    "                for j in range(n_items):\n",
    "                    if self.R[i, j] > 0:\n",
    "                        error = self.R[i, j] - np.dot(self.P[i, :], self.Q[j, :].T)\n",
    "                        self.P[i, :] += self.alpha * (2 * error * self.Q[j, :] - self.beta * self.P[i, :])\n",
    "                        self.Q[j, :] += self.alpha * (2 * error * self.P[i, :] - self.beta * self.Q[j, :])\n",
    "\n",
    "        return self.P, self.Q\n",
    "\n",
    "mf = MatrixFactorization(train_matrix, K=10)\n",
    "P, Q = mf.train()\n",
    "\n",
    "predicted_matrix = np.dot(P, Q.T)\n",
    "mse = np.mean((test_matrix[test_matrix > 0] - predicted_matrix[test_matrix > 0])**2)\n",
    "\n",
    "print(\"\\nMSE для матричної факторизації з нуля:\", mse)\n",
    "\n",
    "metrics_df = pd.DataFrame(results).T\n",
    "metrics_df.plot(kind='bar', figsize=(10, 6))\n",
    "plt.title('Порівняння алгоритмів за RMSE та MAE')\n",
    "plt.ylabel('Середнє значення')\n",
    "plt.xlabel('Алгоритм')\n",
    "plt.xticks(rotation=0)\n",
    "plt.show()"
   ]
  },
  {
   "cell_type": "code",
   "execution_count": null,
   "id": "7795c389-4581-4c9f-aa30-d19c5df2096b",
   "metadata": {},
   "outputs": [],
   "source": []
  }
 ],
 "metadata": {
  "kernelspec": {
   "display_name": "Python 3 (ipykernel)",
   "language": "python",
   "name": "python3"
  },
  "language_info": {
   "codemirror_mode": {
    "name": "ipython",
    "version": 3
   },
   "file_extension": ".py",
   "mimetype": "text/x-python",
   "name": "python",
   "nbconvert_exporter": "python",
   "pygments_lexer": "ipython3",
   "version": "3.12.3"
  }
 },
 "nbformat": 4,
 "nbformat_minor": 5
}
